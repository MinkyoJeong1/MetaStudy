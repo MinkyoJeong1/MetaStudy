{
 "cells": [
  {
   "cell_type": "markdown",
   "metadata": {},
   "source": [
    "## 데이터베이스 생성"
   ]
  },
  {
   "cell_type": "code",
   "execution_count": 2,
   "metadata": {},
   "outputs": [],
   "source": [
    "import pymysql \n",
    "\n",
    "conn = pymysql.connect(host='localhost', user='root', password='0000', charset='utf8') \n",
    "cursor = conn.cursor() \n",
    "\n",
    "sql = \"CREATE DATABASE study\" \n",
    "\n",
    "cursor.execute(sql) \n",
    "\n",
    "conn.commit() \n",
    "conn.close() "
   ]
  },
  {
   "cell_type": "markdown",
   "metadata": {},
   "source": [
    "## 테이블 생성"
   ]
  },
  {
   "cell_type": "code",
   "execution_count": 3,
   "metadata": {},
   "outputs": [],
   "source": [
    "import pymysql\n",
    "\n",
    "conn = pymysql.connect(host='localhost', user='root', password='0000', db='study', charset='utf8')\n",
    "cursor = conn.cursor()\n",
    "\n",
    "sql = '''\n",
    "CREATE TABLE user (\n",
    "    id INT(11) NOT NULL AUTO_INCREMENT PRIMARY KEY,\n",
    "    username VARCHAR(255) UNIQUE,\n",
    "    password VARCHAR(255),\n",
    "    email VARCHAR(255) UNIQUE,\n",
    "    phone_number VARCHAR(255) UNIQUE,\n",
    "    state BOOLEAN\n",
    ")\n",
    "'''\n",
    "\n",
    "cursor.execute(sql)\n",
    "\n",
    "conn.commit()\n",
    "conn.close()\n"
   ]
  },
  {
   "cell_type": "code",
   "execution_count": 9,
   "metadata": {},
   "outputs": [],
   "source": [
    "import pymysql\n",
    "\n",
    "conn = pymysql.connect(host='localhost', user='root', password='0000', db='study', charset='utf8')\n",
    "cursor = conn.cursor()\n",
    "\n",
    "sql = '''\n",
    "CREATE TABLE attendance (\n",
    "    id INT(11) NOT NULL AUTO_INCREMENT PRIMARY KEY,\n",
    "    username VARCHAR(255),\n",
    "    time DATETIME\n",
    ")\n",
    "'''\n",
    "\n",
    "cursor.execute(sql)\n",
    "\n",
    "conn.commit()\n",
    "conn.close()\n"
   ]
  },
  {
   "cell_type": "markdown",
   "metadata": {},
   "source": [
    "## 테이터 삽입 (insert)"
   ]
  },
  {
   "cell_type": "code",
   "execution_count": 4,
   "metadata": {},
   "outputs": [],
   "source": [
    "import pymysql\n",
    "\n",
    "conn = pymysql.connect(host='localhost', user='root', password='0000', db='study', charset='utf8')\n",
    "cursor = conn.cursor()\n",
    "\n",
    "sql = \"INSERT INTO user (username, password, email, phone_number, state) VALUES (%s, %s, %s, %s, %s)\"\n",
    "\n",
    "# 샘플 데이터\n",
    "sample_data = [\n",
    "    (\"developer_lim\", \"password123\", \"developer_lim@limcoding.com\", \"010-1234-5678\", True),\n",
    "    (\"developer_kim\", \"password123\", \"developer_kim@limcoding.com\", \"010-2345-6789\", True),\n",
    "    (\"developer_song\", \"password123\", \"developer_song@limcoding.com\", \"010-3456-7890\", True)\n",
    "]\n",
    "\n",
    "# 데이터 삽입\n",
    "for data in sample_data:\n",
    "    cursor.execute(sql, data)\n",
    "\n",
    "conn.commit()\n",
    "conn.close()\n"
   ]
  },
  {
   "cell_type": "code",
   "execution_count": null,
   "metadata": {},
   "outputs": [],
   "source": [
    "import pymysql \n",
    "\n",
    "conn = pymysql.connect(host='localhost', user='root', password='0000', db='study', charset='utf8') \n",
    "\n",
    "cursor = conn.cursor() \n",
    "\n",
    "sql = \"INSERT INTO user (username, password, email, phone_number, state) VALUES (%s, %s)\" \n",
    "\n",
    "cursor.execute(sql,(\"developer_lim@limcoding.com\", \"AI\")) \n",
    "cursor.execute(sql,(\"developer_kim@limcoding.com\", \"AI\")) \n",
    "cursor.execute(sql,(\"developer_song@limcoding.com\", \"AI\")) \n",
    "\n",
    "conn.commit() \n",
    "\n",
    "conn.close()"
   ]
  },
  {
   "cell_type": "code",
   "execution_count": 7,
   "metadata": {},
   "outputs": [],
   "source": [
    "import pymysql\n",
    "from datetime import datetime\n",
    "\n",
    "conn = pymysql.connect(host='localhost', user='root', password='0000', db='study', charset='utf8')\n",
    "cursor = conn.cursor()\n",
    "\n",
    "# SQL 쿼리\n",
    "sql = '''\n",
    "INSERT INTO attendance (username, time) \n",
    "VALUES (%s, %s)\n",
    "'''\n",
    "\n",
    "# 현재 시간\n",
    "now = datetime.now()\n",
    "\n",
    "# 샘플 데이터\n",
    "sample_data = [\n",
    "    (\"user1\", now),\n",
    "    (\"user2\", now),\n",
    "    (\"user3\", now)\n",
    "]\n",
    "\n",
    "# 데이터 삽입\n",
    "for data in sample_data:\n",
    "    cursor.execute(sql, data)\n",
    "\n",
    "conn.commit()\n",
    "conn.close()\n"
   ]
  },
  {
   "cell_type": "markdown",
   "metadata": {},
   "source": [
    "## 데이터 검색"
   ]
  },
  {
   "cell_type": "code",
   "execution_count": 10,
   "metadata": {},
   "outputs": [
    {
     "name": "stdout",
     "output_type": "stream",
     "text": [
      "(1, 'developer_lim@limcoding.com', 'AI')\n",
      "(2, 'developer_kim@limcoding.com', 'AI')\n",
      "(3, 'developer_song@limcoding.com', 'AI')\n"
     ]
    }
   ],
   "source": [
    "import pymysql \n",
    "\n",
    "conn = pymysql.connect(host='localhost', user='root', password='0000', db='developer', charset='utf8') \n",
    "\n",
    "cursor = conn.cursor() \n",
    "\n",
    "sql = \"SELECT * FROM user where department = %s\" \n",
    "\n",
    "cursor.execute(sql, (\"AI\")) \n",
    "res = cursor.fetchall() \n",
    "\n",
    "for data in res: \n",
    "        print(data) \n",
    "\n",
    "conn.commit() \n",
    "conn.close() "
   ]
  },
  {
   "cell_type": "markdown",
   "metadata": {},
   "source": [
    "## 데이터 수정 (update)"
   ]
  },
  {
   "cell_type": "code",
   "execution_count": 12,
   "metadata": {},
   "outputs": [],
   "source": [
    "import pymysql \n",
    "\n",
    "conn = pymysql.connect(host='localhost', user='root', password='0000', db='developer', charset='utf8') \n",
    "\n",
    "cursor = conn.cursor() \n",
    "\n",
    "sql = \"UPDATE user SET department = %s WHERE email = %s\" \n",
    "cursor.execute(sql, (\"Testing\", \"developer_song@limcoding.com\")) \n",
    "\n",
    "conn.commit() \n",
    "conn.close() "
   ]
  },
  {
   "cell_type": "markdown",
   "metadata": {},
   "source": [
    "## 데이터 삭제"
   ]
  },
  {
   "cell_type": "code",
   "execution_count": 14,
   "metadata": {},
   "outputs": [],
   "source": [
    "import pymysql \n",
    "\n",
    "conn = pymysql.connect(host='localhost', user='root', password='0000', db='developer', charset='utf8') \n",
    "\n",
    "cursor = conn.cursor() \n",
    "\n",
    "sql = \"DELETE FROM user WHERE email = %s\" \n",
    "cursor.execute(sql, (\"developer_song@limcoding.com\")) \n",
    "conn.commit() \n",
    "\n",
    "conn.close() "
   ]
  },
  {
   "cell_type": "code",
   "execution_count": 14,
   "metadata": {},
   "outputs": [],
   "source": [
    "import pymysql\n",
    "\n",
    "conn = pymysql.connect(host='localhost', user='root', password='0000', db='study', charset='utf8')\n",
    "cursor = conn.cursor()\n",
    "\n",
    "sql = \"DELETE FROM user WHERE username = %s\"\n",
    "cursor.execute(sql, (\"aaaa\"))  # id 4번 데이터 삭제\n",
    "conn.commit()\n",
    "\n",
    "conn.close()\n"
   ]
  },
  {
   "cell_type": "markdown",
   "metadata": {},
   "source": [
    "## DB 삭제"
   ]
  },
  {
   "cell_type": "code",
   "execution_count": 1,
   "metadata": {},
   "outputs": [],
   "source": [
    "import pymysql\n",
    "\n",
    "conn = pymysql.connect(host='localhost', user='root', password='0000', db='study', charset='utf8')\n",
    "cursor = conn.cursor()\n",
    "\n",
    "sql = \"DROP DATABASE study\"\n",
    "\n",
    "\n",
    "cursor.execute(sql)\n",
    "\n",
    "conn.commit()\n",
    "conn.close()\n"
   ]
  },
  {
   "cell_type": "markdown",
   "metadata": {},
   "source": [
    "## 테이블 삭제"
   ]
  },
  {
   "cell_type": "code",
   "execution_count": 8,
   "metadata": {},
   "outputs": [],
   "source": [
    "import pymysql\n",
    "\n",
    "conn = pymysql.connect(host='localhost', user='root', password='0000', db='study', charset='utf8')\n",
    "cursor = conn.cursor()\n",
    "\n",
    "sql = 'DROP TABLE IF EXISTS attendance'\n",
    "\n",
    "cursor.execute(sql)\n",
    "\n",
    "conn.commit()\n",
    "conn.close()\n"
   ]
  },
  {
   "cell_type": "code",
   "execution_count": null,
   "metadata": {},
   "outputs": [],
   "source": []
  }
 ],
 "metadata": {
  "kernelspec": {
   "display_name": "meta",
   "language": "python",
   "name": "python3"
  },
  "language_info": {
   "codemirror_mode": {
    "name": "ipython",
    "version": 3
   },
   "file_extension": ".py",
   "mimetype": "text/x-python",
   "name": "python",
   "nbconvert_exporter": "python",
   "pygments_lexer": "ipython3",
   "version": "3.10.13"
  }
 },
 "nbformat": 4,
 "nbformat_minor": 2
}
